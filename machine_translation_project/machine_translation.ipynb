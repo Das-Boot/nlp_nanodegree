{
 "cells": [
  {
   "cell_type": "markdown",
   "metadata": {
    "toc": true
   },
   "source": [
    "<h1>Table of Contents<span class=\"tocSkip\"></span></h1>\n",
    "<div class=\"toc\"><ul class=\"toc-item\"><li><span><a href=\"#Artificial-Intelligence-Nanodegree\" data-toc-modified-id=\"Artificial-Intelligence-Nanodegree-1\"><span class=\"toc-item-num\">1&nbsp;&nbsp;</span>Artificial Intelligence Nanodegree</a></span><ul class=\"toc-item\"><li><span><a href=\"#Machine-Translation-Project\" data-toc-modified-id=\"Machine-Translation-Project-1.1\"><span class=\"toc-item-num\">1.1&nbsp;&nbsp;</span>Machine Translation Project</a></span></li><li><span><a href=\"#Introduction\" data-toc-modified-id=\"Introduction-1.2\"><span class=\"toc-item-num\">1.2&nbsp;&nbsp;</span>Introduction</a></span><ul class=\"toc-item\"><li><span><a href=\"#Verify-access-to-the-GPU\" data-toc-modified-id=\"Verify-access-to-the-GPU-1.2.1\"><span class=\"toc-item-num\">1.2.1&nbsp;&nbsp;</span>Verify access to the GPU</a></span></li></ul></li><li><span><a href=\"#Dataset\" data-toc-modified-id=\"Dataset-1.3\"><span class=\"toc-item-num\">1.3&nbsp;&nbsp;</span>Dataset</a></span><ul class=\"toc-item\"><li><span><a href=\"#Load-Data\" data-toc-modified-id=\"Load-Data-1.3.1\"><span class=\"toc-item-num\">1.3.1&nbsp;&nbsp;</span>Load Data</a></span></li><li><span><a href=\"#Files\" data-toc-modified-id=\"Files-1.3.2\"><span class=\"toc-item-num\">1.3.2&nbsp;&nbsp;</span>Files</a></span></li><li><span><a href=\"#Vocabulary\" data-toc-modified-id=\"Vocabulary-1.3.3\"><span class=\"toc-item-num\">1.3.3&nbsp;&nbsp;</span>Vocabulary</a></span></li></ul></li><li><span><a href=\"#Preprocess\" data-toc-modified-id=\"Preprocess-1.4\"><span class=\"toc-item-num\">1.4&nbsp;&nbsp;</span>Preprocess</a></span><ul class=\"toc-item\"><li><span><a href=\"#Tokenize-(IMPLEMENTATION)\" data-toc-modified-id=\"Tokenize-(IMPLEMENTATION)-1.4.1\"><span class=\"toc-item-num\">1.4.1&nbsp;&nbsp;</span>Tokenize (IMPLEMENTATION)</a></span></li><li><span><a href=\"#Padding-(IMPLEMENTATION)\" data-toc-modified-id=\"Padding-(IMPLEMENTATION)-1.4.2\"><span class=\"toc-item-num\">1.4.2&nbsp;&nbsp;</span>Padding (IMPLEMENTATION)</a></span></li><li><span><a href=\"#Preprocess-Pipeline\" data-toc-modified-id=\"Preprocess-Pipeline-1.4.3\"><span class=\"toc-item-num\">1.4.3&nbsp;&nbsp;</span>Preprocess Pipeline</a></span></li></ul></li><li><span><a href=\"#Models\" data-toc-modified-id=\"Models-1.5\"><span class=\"toc-item-num\">1.5&nbsp;&nbsp;</span>Models</a></span><ul class=\"toc-item\"><li><span><a href=\"#Ids-Back-to-Text\" data-toc-modified-id=\"Ids-Back-to-Text-1.5.1\"><span class=\"toc-item-num\">1.5.1&nbsp;&nbsp;</span>Ids Back to Text</a></span></li><li><span><a href=\"#Model-1:-RNN-(IMPLEMENTATION)\" data-toc-modified-id=\"Model-1:-RNN-(IMPLEMENTATION)-1.5.2\"><span class=\"toc-item-num\">1.5.2&nbsp;&nbsp;</span>Model 1: RNN (IMPLEMENTATION)</a></span></li><li><span><a href=\"#Model-2:-Embedding-(IMPLEMENTATION)\" data-toc-modified-id=\"Model-2:-Embedding-(IMPLEMENTATION)-1.5.3\"><span class=\"toc-item-num\">1.5.3&nbsp;&nbsp;</span>Model 2: Embedding (IMPLEMENTATION)</a></span></li><li><span><a href=\"#Model-3:-Bidirectional-RNNs-(IMPLEMENTATION)\" data-toc-modified-id=\"Model-3:-Bidirectional-RNNs-(IMPLEMENTATION)-1.5.4\"><span class=\"toc-item-num\">1.5.4&nbsp;&nbsp;</span>Model 3: Bidirectional RNNs (IMPLEMENTATION)</a></span></li><li><span><a href=\"#Model-4:-Encoder-Decoder-(OPTIONAL)\" data-toc-modified-id=\"Model-4:-Encoder-Decoder-(OPTIONAL)-1.5.5\"><span class=\"toc-item-num\">1.5.5&nbsp;&nbsp;</span>Model 4: Encoder-Decoder (OPTIONAL)</a></span></li><li><span><a href=\"#Model-5:-Custom-(IMPLEMENTATION)\" data-toc-modified-id=\"Model-5:-Custom-(IMPLEMENTATION)-1.5.6\"><span class=\"toc-item-num\">1.5.6&nbsp;&nbsp;</span>Model 5: Custom (IMPLEMENTATION)</a></span></li></ul></li><li><span><a href=\"#Prediction-(IMPLEMENTATION)\" data-toc-modified-id=\"Prediction-(IMPLEMENTATION)-1.6\"><span class=\"toc-item-num\">1.6&nbsp;&nbsp;</span>Prediction (IMPLEMENTATION)</a></span></li><li><span><a href=\"#Submission\" data-toc-modified-id=\"Submission-1.7\"><span class=\"toc-item-num\">1.7&nbsp;&nbsp;</span>Submission</a></span><ul class=\"toc-item\"><li><span><a href=\"#Generate-the-html\" data-toc-modified-id=\"Generate-the-html-1.7.1\"><span class=\"toc-item-num\">1.7.1&nbsp;&nbsp;</span>Generate the html</a></span></li></ul></li><li><span><a href=\"#Optional-Enhancements\" data-toc-modified-id=\"Optional-Enhancements-1.8\"><span class=\"toc-item-num\">1.8&nbsp;&nbsp;</span>Optional Enhancements</a></span></li></ul></li></ul></div>"
   ]
  },
  {
   "cell_type": "markdown",
   "metadata": {
    "collapsed": true
   },
   "source": [
    "# Artificial Intelligence Nanodegree\n",
    "## Machine Translation Project\n",
    "In this notebook, sections that end with **'(IMPLEMENTATION)'** in the header indicate that the following blocks of code will require additional functionality which you must provide. Please be sure to read the instructions carefully!\n",
    "\n",
    "## Introduction\n",
    "In this notebook, you will build a deep neural network that functions as part of an end-to-end machine translation pipeline. Your completed pipeline will accept English text as input and return the French translation.\n",
    "\n",
    "- **Preprocess** - You'll convert text to sequence of integers.\n",
    "- **Models** Create models which accepts a sequence of integers as input and returns a probability distribution over possible translations. After learning about the basic types of neural networks that are often used for machine translation, you will engage in your own investigations, to design your own model!\n",
    "- **Prediction** Run the model on English text."
   ]
  },
  {
   "cell_type": "code",
   "execution_count": 2,
   "metadata": {},
   "outputs": [
    {
     "name": "stdout",
     "output_type": "stream",
     "text": [
      "The autoreload extension is already loaded. To reload it, use:\n",
      "  %reload_ext autoreload\n"
     ]
    }
   ],
   "source": [
    "%load_ext autoreload\n",
    "%aimport helper, tests\n",
    "%autoreload 1"
   ]
  },
  {
   "cell_type": "code",
   "execution_count": 3,
   "metadata": {},
   "outputs": [
    {
     "name": "stderr",
     "output_type": "stream",
     "text": [
      "Using TensorFlow backend.\n"
     ]
    }
   ],
   "source": [
    "import collections\n",
    "\n",
    "import helper\n",
    "import numpy as np\n",
    "import project_tests as tests\n",
    "\n",
    "from keras.preprocessing.text import Tokenizer\n",
    "from keras.preprocessing.sequence import pad_sequences\n",
    "from keras.models import Model\n",
    "from keras.layers import GRU, Input, Dense, TimeDistributed, Activation, RepeatVector, Bidirectional\n",
    "from keras.layers.embeddings import Embedding\n",
    "from keras.optimizers import Adam\n",
    "from keras.losses import sparse_categorical_crossentropy"
   ]
  },
  {
   "cell_type": "markdown",
   "metadata": {},
   "source": [
    "### Verify access to the GPU\n",
    "The following test applies only if you expect to be using a GPU, e.g., while running in a Udacity Workspace or using an AWS instance with GPU support. Run the next cell, and verify that the device_type is \"GPU\".\n",
    "- If the device is not GPU & you are running from a Udacity Workspace, then save your workspace with the icon at the top, then click \"enable\" at the bottom of the workspace.\n",
    "- If the device is not GPU & you are running from an AWS instance, then refer to the cloud computing instructions in the classroom to verify your setup steps."
   ]
  },
  {
   "cell_type": "code",
   "execution_count": 4,
   "metadata": {},
   "outputs": [
    {
     "name": "stdout",
     "output_type": "stream",
     "text": [
      "[name: \"/cpu:0\"\n",
      "device_type: \"CPU\"\n",
      "memory_limit: 268435456\n",
      "locality {\n",
      "}\n",
      "incarnation: 8013834610591215065\n",
      ", name: \"/gpu:0\"\n",
      "device_type: \"GPU\"\n",
      "memory_limit: 357302272\n",
      "locality {\n",
      "  bus_id: 1\n",
      "}\n",
      "incarnation: 4229285767581336902\n",
      "physical_device_desc: \"device: 0, name: Tesla K80, pci bus id: 0000:00:04.0\"\n",
      "]\n"
     ]
    }
   ],
   "source": [
    "from tensorflow.python.client import device_lib\n",
    "print(device_lib.list_local_devices())"
   ]
  },
  {
   "cell_type": "markdown",
   "metadata": {},
   "source": [
    "## Dataset\n",
    "We begin by investigating the dataset that will be used to train and evaluate your pipeline.  The most common datasets used for machine translation are from [WMT](http://www.statmt.org/).  However, that will take a long time to train a neural network on.  We'll be using a dataset we created for this project that contains a small vocabulary.  You'll be able to train your model in a reasonable time with this dataset.\n",
    "### Load Data\n",
    "The data is located in `data/small_vocab_en` and `data/small_vocab_fr`. The `small_vocab_en` file contains English sentences with their French translations in the `small_vocab_fr` file. Load the English and French data from these files from running the cell below."
   ]
  },
  {
   "cell_type": "code",
   "execution_count": 5,
   "metadata": {},
   "outputs": [
    {
     "name": "stdout",
     "output_type": "stream",
     "text": [
      "Dataset Loaded\n"
     ]
    }
   ],
   "source": [
    "# Load English data\n",
    "english_sentences = helper.load_data('data/small_vocab_en')\n",
    "# Load French data\n",
    "french_sentences = helper.load_data('data/small_vocab_fr')\n",
    "\n",
    "print('Dataset Loaded')"
   ]
  },
  {
   "cell_type": "markdown",
   "metadata": {},
   "source": [
    "### Files\n",
    "Each line in `small_vocab_en` contains an English sentence with the respective translation in each line of `small_vocab_fr`.  View the first two lines from each file."
   ]
  },
  {
   "cell_type": "code",
   "execution_count": 6,
   "metadata": {},
   "outputs": [
    {
     "name": "stdout",
     "output_type": "stream",
     "text": [
      "small_vocab_en Line 1:  new jersey is sometimes quiet during autumn , and it is snowy in april .\n",
      "small_vocab_fr Line 1:  new jersey est parfois calme pendant l' automne , et il est neigeux en avril .\n",
      "small_vocab_en Line 2:  the united states is usually chilly during july , and it is usually freezing in november .\n",
      "small_vocab_fr Line 2:  les états-unis est généralement froid en juillet , et il gèle habituellement en novembre .\n"
     ]
    }
   ],
   "source": [
    "for sample_i in range(2):\n",
    "    print('small_vocab_en Line {}:  {}'.format(sample_i + 1, english_sentences[sample_i]))\n",
    "    print('small_vocab_fr Line {}:  {}'.format(sample_i + 1, french_sentences[sample_i]))"
   ]
  },
  {
   "cell_type": "markdown",
   "metadata": {},
   "source": [
    "From looking at the sentences, you can see they have been preprocessed already.  The puncuations have been delimited using spaces. All the text have been converted to lowercase.  This should save you some time, but the text requires more preprocessing.\n",
    "### Vocabulary\n",
    "The complexity of the problem is determined by the complexity of the vocabulary.  A more complex vocabulary is a more complex problem.  Let's look at the complexity of the dataset we'll be working with."
   ]
  },
  {
   "cell_type": "code",
   "execution_count": 7,
   "metadata": {},
   "outputs": [
    {
     "name": "stdout",
     "output_type": "stream",
     "text": [
      "1823250 English words.\n",
      "227 unique English words.\n",
      "10 Most common words in the English dataset:\n",
      "\"is\" \",\" \".\" \"in\" \"it\" \"during\" \"the\" \"but\" \"and\" \"sometimes\"\n",
      "\n",
      "1961295 French words.\n",
      "355 unique French words.\n",
      "10 Most common words in the French dataset:\n",
      "\"est\" \".\" \",\" \"en\" \"il\" \"les\" \"mais\" \"et\" \"la\" \"parfois\"\n"
     ]
    }
   ],
   "source": [
    "english_words_counter = collections.Counter([word for sentence in english_sentences for word in sentence.split()])\n",
    "french_words_counter = collections.Counter([word for sentence in french_sentences for word in sentence.split()])\n",
    "\n",
    "print('{} English words.'.format(len([word for sentence in english_sentences for word in sentence.split()])))\n",
    "print('{} unique English words.'.format(len(english_words_counter)))\n",
    "print('10 Most common words in the English dataset:')\n",
    "print('\"' + '\" \"'.join(list(zip(*english_words_counter.most_common(10)))[0]) + '\"')\n",
    "print()\n",
    "print('{} French words.'.format(len([word for sentence in french_sentences for word in sentence.split()])))\n",
    "print('{} unique French words.'.format(len(french_words_counter)))\n",
    "print('10 Most common words in the French dataset:')\n",
    "print('\"' + '\" \"'.join(list(zip(*french_words_counter.most_common(10)))[0]) + '\"')"
   ]
  },
  {
   "cell_type": "markdown",
   "metadata": {},
   "source": [
    "For comparison, _Alice's Adventures in Wonderland_ contains 2,766 unique words of a total of 15,500 words.\n",
    "## Preprocess\n",
    "For this project, you won't use text data as input to your model. Instead, you'll convert the text into sequences of integers using the following preprocess methods:\n",
    "1. Tokenize the words into ids\n",
    "2. Add padding to make all the sequences the same length.\n",
    "\n",
    "Time to start preprocessing the data...\n",
    "### Tokenize (IMPLEMENTATION)\n",
    "For a neural network to predict on text data, it first has to be turned into data it can understand. Text data like \"dog\" is a sequence of ASCII character encodings.  Since a neural network is a series of multiplication and addition operations, the input data needs to be number(s).\n",
    "\n",
    "We can turn each character into a number or each word into a number.  These are called character and word ids, respectively.  Character ids are used for character level models that generate text predictions for each character.  A word level model uses word ids that generate text predictions for each word.  Word level models tend to learn better, since they are lower in complexity, so we'll use those.\n",
    "\n",
    "Turn each sentence into a sequence of words ids using Keras's [`Tokenizer`](https://keras.io/preprocessing/text/#tokenizer) function. Use this function to tokenize `english_sentences` and `french_sentences` in the cell below.\n",
    "\n",
    "Running the cell will run `tokenize` on sample data and show output for debugging."
   ]
  },
  {
   "cell_type": "code",
   "execution_count": 8,
   "metadata": {},
   "outputs": [
    {
     "name": "stdout",
     "output_type": "stream",
     "text": [
      "{'the': 1, 'quick': 2, 'a': 3, 'brown': 4, 'fox': 5, 'jumps': 6, 'over': 7, 'lazy': 8, 'dog': 9, 'by': 10, 'jove': 11, 'my': 12, 'study': 13, 'of': 14, 'lexicography': 15, 'won': 16, 'prize': 17, 'this': 18, 'is': 19, 'short': 20, 'sentence': 21}\n",
      "\n",
      "Sequence 1 in x\n",
      "  Input:  The quick brown fox jumps over the lazy dog .\n",
      "  Output: [1, 2, 4, 5, 6, 7, 1, 8, 9]\n",
      "Sequence 2 in x\n",
      "  Input:  By Jove , my quick study of lexicography won a prize .\n",
      "  Output: [10, 11, 12, 2, 13, 14, 15, 16, 3, 17]\n",
      "Sequence 3 in x\n",
      "  Input:  This is a short sentence .\n",
      "  Output: [18, 19, 3, 20, 21]\n"
     ]
    }
   ],
   "source": [
    "def tokenize(x):\n",
    "    \"\"\"\n",
    "    Tokenize x\n",
    "    :param x: List of sentences/strings to be tokenized\n",
    "    :return: Tuple of (tokenized x data, tokenizer used to tokenize x)\n",
    "    \"\"\"\n",
    "    # TODO: Implement\n",
    "    x_tk = Tokenizer(num_words=None,\n",
    "                     filters='!\"#$%&()*+,-./:;<=>?@[\\]^_`{|}~\\t\\n',\n",
    "                     lower=True,\n",
    "                     split=\" \",\n",
    "                     char_level=False)\n",
    "    x_tk.fit_on_texts(x)\n",
    "\n",
    "    return x_tk.texts_to_sequences(x), x_tk\n",
    "\n",
    "tests.test_tokenize(tokenize)\n",
    "\n",
    "# Tokenize Example output\n",
    "text_sentences = [\n",
    "    'The quick brown fox jumps over the lazy dog .',\n",
    "    'By Jove , my quick study of lexicography won a prize .',\n",
    "    'This is a short sentence .']\n",
    "text_tokenized, text_tokenizer = tokenize(text_sentences)\n",
    "print(text_tokenizer.word_index)\n",
    "print()\n",
    "for sample_i, (sent, token_sent) in enumerate(zip(text_sentences, text_tokenized)):\n",
    "    print('Sequence {} in x'.format(sample_i + 1))\n",
    "    print('  Input:  {}'.format(sent))\n",
    "    print('  Output: {}'.format(token_sent))"
   ]
  },
  {
   "cell_type": "markdown",
   "metadata": {},
   "source": [
    "### Padding (IMPLEMENTATION)\n",
    "When batching the sequence of word ids together, each sequence needs to be the same length.  Since sentences are dynamic in length, we can add padding to the end of the sequences to make them the same length.\n",
    "\n",
    "Make sure all the English sequences have the same length and all the French sequences have the same length by adding padding to the **end** of each sequence using Keras's [`pad_sequences`](https://keras.io/preprocessing/sequence/#pad_sequences) function."
   ]
  },
  {
   "cell_type": "code",
   "execution_count": 9,
   "metadata": {},
   "outputs": [
    {
     "name": "stdout",
     "output_type": "stream",
     "text": [
      "Sequence 1 in x\n",
      "  Input:  [1 2 4 5 6 7 1 8 9]\n",
      "  Output: [1 2 4 5 6 7 1 8 9 0]\n",
      "Sequence 2 in x\n",
      "  Input:  [10 11 12  2 13 14 15 16  3 17]\n",
      "  Output: [10 11 12  2 13 14 15 16  3 17]\n",
      "Sequence 3 in x\n",
      "  Input:  [18 19  3 20 21]\n",
      "  Output: [18 19  3 20 21  0  0  0  0  0]\n"
     ]
    }
   ],
   "source": [
    "def pad(x, length=None):\n",
    "    \"\"\"\n",
    "    Pad x\n",
    "    :param x: List of sequences.\n",
    "    :param length: Length to pad the sequence to.  If None, use length of longest sequence in x.\n",
    "    :return: Padded numpy array of sequences\n",
    "    \"\"\"\n",
    "    # TODO: Implement\n",
    "    if length is None:\n",
    "        length = max([len(sentence) for sentence in x])\n",
    "    return pad_sequences(x, maxlen=length, padding='post')\n",
    "\n",
    "tests.test_pad(pad)\n",
    "\n",
    "# Pad Tokenized output\n",
    "test_pad = pad(text_tokenized)\n",
    "for sample_i, (token_sent, pad_sent) in enumerate(zip(text_tokenized, test_pad)):\n",
    "    print('Sequence {} in x'.format(sample_i + 1))\n",
    "    print('  Input:  {}'.format(np.array(token_sent)))\n",
    "    print('  Output: {}'.format(pad_sent))"
   ]
  },
  {
   "cell_type": "markdown",
   "metadata": {},
   "source": [
    "### Preprocess Pipeline\n",
    "Your focus for this project is to build neural network architecture, so we won't ask you to create a preprocess pipeline.  Instead, we've provided you with the implementation of the `preprocess` function."
   ]
  },
  {
   "cell_type": "code",
   "execution_count": 10,
   "metadata": {},
   "outputs": [
    {
     "name": "stdout",
     "output_type": "stream",
     "text": [
      "Data Preprocessed\n",
      "Max English sentence length: 15\n",
      "Max French sentence length: 21\n",
      "English vocabulary size: 199\n",
      "French vocabulary size: 344\n"
     ]
    }
   ],
   "source": [
    "def preprocess(x, y):\n",
    "    \"\"\"\n",
    "    Preprocess x and y\n",
    "    :param x: Feature List of sentences\n",
    "    :param y: Label List of sentences\n",
    "    :return: Tuple of (Preprocessed x, Preprocessed y, x tokenizer, y tokenizer)\n",
    "    \"\"\"\n",
    "    preprocess_x, x_tk = tokenize(x)\n",
    "    preprocess_y, y_tk = tokenize(y)\n",
    "\n",
    "    preprocess_x = pad(preprocess_x)\n",
    "    preprocess_y = pad(preprocess_y)\n",
    "\n",
    "    # Keras's sparse_categorical_crossentropy function requires the labels to be in 3 dimensions\n",
    "    preprocess_y = preprocess_y.reshape(*preprocess_y.shape, 1)\n",
    "\n",
    "    return preprocess_x, preprocess_y, x_tk, y_tk\n",
    "\n",
    "preproc_english_sentences, preproc_french_sentences, english_tokenizer, french_tokenizer =\\\n",
    "    preprocess(english_sentences, french_sentences)\n",
    "    \n",
    "max_english_sequence_length = preproc_english_sentences.shape[1]\n",
    "max_french_sequence_length = preproc_french_sentences.shape[1]\n",
    "english_vocab_size = len(english_tokenizer.word_index)\n",
    "french_vocab_size = len(french_tokenizer.word_index)\n",
    "\n",
    "print('Data Preprocessed')\n",
    "print(\"Max English sentence length:\", max_english_sequence_length)\n",
    "print(\"Max French sentence length:\", max_french_sequence_length)\n",
    "print(\"English vocabulary size:\", english_vocab_size)\n",
    "print(\"French vocabulary size:\", french_vocab_size)"
   ]
  },
  {
   "cell_type": "markdown",
   "metadata": {},
   "source": [
    "## Models\n",
    "In this section, you will experiment with various neural network architectures.\n",
    "You will begin by training four relatively simple architectures.\n",
    "- Model 1 is a simple RNN\n",
    "- Model 2 is a RNN with Embedding\n",
    "- Model 3 is a Bidirectional RNN\n",
    "- Model 4 is an optional Encoder-Decoder RNN\n",
    "\n",
    "After experimenting with the four simple architectures, you will construct a deeper architecture that is designed to outperform all four models.\n",
    "### Ids Back to Text\n",
    "The neural network will be translating the input to words ids, which isn't the final form we want.  We want the French translation.  The function `logits_to_text` will bridge the gab between the logits from the neural network to the French translation.  You'll be using this function to better understand the output of the neural network."
   ]
  },
  {
   "cell_type": "code",
   "execution_count": 11,
   "metadata": {},
   "outputs": [
    {
     "name": "stdout",
     "output_type": "stream",
     "text": [
      "`logits_to_text` function loaded.\n"
     ]
    }
   ],
   "source": [
    "def logits_to_text(logits, tokenizer):\n",
    "    \"\"\"\n",
    "    Turn logits from a neural network into text using the tokenizer\n",
    "    :param logits: Logits from a neural network\n",
    "    :param tokenizer: Keras Tokenizer fit on the labels\n",
    "    :return: String that represents the text of the logits\n",
    "    \"\"\"\n",
    "    index_to_words = {id: word for word, id in tokenizer.word_index.items()}\n",
    "    index_to_words[0] = '<PAD>'\n",
    "\n",
    "    return ' '.join([index_to_words[prediction] for prediction in np.argmax(logits, 1)])\n",
    "\n",
    "print('`logits_to_text` function loaded.')"
   ]
  },
  {
   "cell_type": "markdown",
   "metadata": {},
   "source": [
    "### Model 1: RNN (IMPLEMENTATION)\n",
    "![RNN](images/rnn.png)\n",
    "A basic RNN model is a good baseline for sequence data.  In this model, you'll build a RNN that translates English to French."
   ]
  },
  {
   "cell_type": "code",
   "execution_count": 12,
   "metadata": {},
   "outputs": [
    {
     "name": "stdout",
     "output_type": "stream",
     "text": [
      "Train on 110288 samples, validate on 27573 samples\n",
      "Epoch 1/10\n",
      "110288/110288 [==============================] - 10s 88us/step - loss: 3.5463 - acc: 0.4059 - val_loss: 2.5682 - val_acc: 0.4608\n",
      "Epoch 2/10\n",
      "110288/110288 [==============================] - 8s 70us/step - loss: 2.4439 - acc: 0.4751 - val_loss: 2.3127 - val_acc: 0.4917\n",
      "Epoch 3/10\n",
      "110288/110288 [==============================] - 7s 65us/step - loss: 2.1827 - acc: 0.5174 - val_loss: 2.0449 - val_acc: 0.5402\n",
      "Epoch 4/10\n",
      "110288/110288 [==============================] - 7s 65us/step - loss: 1.9312 - acc: 0.5524 - val_loss: 1.8329 - val_acc: 0.5626\n",
      "Epoch 5/10\n",
      "110288/110288 [==============================] - 7s 65us/step - loss: 1.7689 - acc: 0.5718 - val_loss: 1.7120 - val_acc: 0.5837\n",
      "Epoch 6/10\n",
      "110288/110288 [==============================] - 7s 65us/step - loss: 1.6678 - acc: 0.5903 - val_loss: 1.6263 - val_acc: 0.5935\n",
      "Epoch 7/10\n",
      "110288/110288 [==============================] - 7s 65us/step - loss: 1.5918 - acc: 0.5992 - val_loss: 1.5590 - val_acc: 0.6035\n",
      "Epoch 8/10\n",
      "110288/110288 [==============================] - 7s 65us/step - loss: 1.5320 - acc: 0.6059 - val_loss: 1.5061 - val_acc: 0.6112\n",
      "Epoch 9/10\n",
      "110288/110288 [==============================] - 7s 65us/step - loss: 1.4848 - acc: 0.6115 - val_loss: 1.4635 - val_acc: 0.6157\n",
      "Epoch 10/10\n",
      "110288/110288 [==============================] - 7s 65us/step - loss: 1.4461 - acc: 0.6171 - val_loss: 1.4283 - val_acc: 0.6212\n",
      "new jersey est parfois parfois en en et il est il en en <PAD> <PAD> <PAD> <PAD> <PAD> <PAD> <PAD> <PAD>\n"
     ]
    }
   ],
   "source": [
    "def simple_model(input_shape, output_sequence_length, english_vocab_size, french_vocab_size):\n",
    "    \"\"\"\n",
    "    Build and train a basic RNN on x and y\n",
    "    :param input_shape: Tuple of input shape\n",
    "    :param output_sequence_length: Length of output sequence\n",
    "    :param english_vocab_size: Number of unique English words in the dataset\n",
    "    :param french_vocab_size: Number of unique French words in the dataset\n",
    "    :return: Keras model built, but not trained\n",
    "    \"\"\"\n",
    "    # TODO: Build the layers\n",
    "    learning_rate = 1e-3\n",
    "\n",
    "    input_seq = Input(input_shape[1:])\n",
    "    rnn = GRU(64, return_sequences=True)(input_seq)\n",
    "    logits = TimeDistributed(Dense(french_vocab_size))(rnn)\n",
    "\n",
    "    model = Model(input_seq, Activation('softmax')(logits))\n",
    "    model.compile(loss=sparse_categorical_crossentropy,\n",
    "                  optimizer=Adam(learning_rate),\n",
    "                  metrics=['accuracy'])\n",
    "    return model\n",
    "\n",
    "tests.test_simple_model(simple_model)\n",
    "\n",
    "# Reshaping the input to work with a basic RNN\n",
    "tmp_x = pad(preproc_english_sentences, max_french_sequence_length)\n",
    "tmp_x = tmp_x.reshape((-1, preproc_french_sentences.shape[-2], 1))\n",
    "\n",
    "# Train the neural network\n",
    "simple_rnn_model = simple_model(\n",
    "    tmp_x.shape,\n",
    "    max_french_sequence_length,\n",
    "    english_vocab_size,\n",
    "    french_vocab_size+1)\n",
    "simple_rnn_model.fit(tmp_x, preproc_french_sentences, batch_size=1024, epochs=10, validation_split=0.2)\n",
    "\n",
    "# Print prediction(s)\n",
    "print(logits_to_text(simple_rnn_model.predict(tmp_x[:1])[0], french_tokenizer))"
   ]
  },
  {
   "cell_type": "markdown",
   "metadata": {},
   "source": [
    "### Model 2: Embedding (IMPLEMENTATION)\n",
    "![RNN](images/embedding.png)\n",
    "You've turned the words into ids, but there's a better representation of a word.  This is called word embeddings.  An embedding is a vector representation of the word that is close to similar words in n-dimensional space, where the n represents the size of the embedding vectors.\n",
    "\n",
    "In this model, you'll create a RNN model using embedding."
   ]
  },
  {
   "cell_type": "code",
   "execution_count": 13,
   "metadata": {},
   "outputs": [
    {
     "name": "stdout",
     "output_type": "stream",
     "text": [
      "Train on 110288 samples, validate on 27573 samples\n",
      "Epoch 1/10\n",
      "110288/110288 [==============================] - 20s 183us/step - loss: 4.7370 - acc: 0.1322 - val_loss: 4.1644 - val_acc: 0.1351\n",
      "Epoch 2/10\n",
      "110288/110288 [==============================] - 20s 179us/step - loss: 3.8888 - acc: 0.1630 - val_loss: 3.4856 - val_acc: 0.2212\n",
      "Epoch 3/10\n",
      "110288/110288 [==============================] - 20s 178us/step - loss: 3.1267 - acc: 0.2610 - val_loss: 2.8095 - val_acc: 0.3066\n",
      "Epoch 4/10\n",
      "110288/110288 [==============================] - 20s 181us/step - loss: 2.4729 - acc: 0.3634 - val_loss: 2.1462 - val_acc: 0.4490\n",
      "Epoch 5/10\n",
      "110288/110288 [==============================] - 20s 178us/step - loss: 1.9107 - acc: 0.5293 - val_loss: 1.7141 - val_acc: 0.5843\n",
      "Epoch 6/10\n",
      "110288/110288 [==============================] - 20s 177us/step - loss: 1.5597 - acc: 0.6210 - val_loss: 1.4212 - val_acc: 0.6545\n",
      "Epoch 7/10\n",
      "110288/110288 [==============================] - 20s 178us/step - loss: 1.3117 - acc: 0.6738 - val_loss: 1.2116 - val_acc: 0.6935\n",
      "Epoch 8/10\n",
      "110288/110288 [==============================] - 20s 178us/step - loss: 1.1317 - acc: 0.7089 - val_loss: 1.0578 - val_acc: 0.7227\n",
      "Epoch 9/10\n",
      "110288/110288 [==============================] - 20s 178us/step - loss: 0.9969 - acc: 0.7368 - val_loss: 0.9401 - val_acc: 0.7495\n",
      "Epoch 10/10\n",
      "110288/110288 [==============================] - 19s 176us/step - loss: 0.8948 - acc: 0.7592 - val_loss: 0.8527 - val_acc: 0.7686\n",
      "new jersey est parfois calme en l'automne et il est neigeux en avril avril avril avril avril avril avril avril avril\n"
     ]
    }
   ],
   "source": [
    "def embed_model(input_shape, output_sequence_length, english_vocab_size, french_vocab_size):\n",
    "    \"\"\"\n",
    "    Build and train a RNN model using word embedding on x and y\n",
    "    :param input_shape: Tuple of input shape\n",
    "    :param output_sequence_length: Length of output sequence\n",
    "    :param english_vocab_size: Number of unique English words in the dataset\n",
    "    :param french_vocab_size: Number of unique French words in the dataset\n",
    "    :return: Keras model built, but not trained\n",
    "    \"\"\"\n",
    "    # TODO: Implement\n",
    "    learning_rate = 1e-3\n",
    "\n",
    "    input_seq = Input(shape=(input_shape[-1],))\n",
    "    embed_seq = Embedding(english_vocab_size+1, 32, mask_zero=True)(input_seq)\n",
    "    rnn = GRU(64, return_sequences=True)(embed_seq)\n",
    "    logits = TimeDistributed(Dense(french_vocab_size))(rnn)\n",
    "\n",
    "    model = Model(input_seq, Activation('softmax')(logits))\n",
    "    model.compile(loss=sparse_categorical_crossentropy,\n",
    "                  optimizer=Adam(learning_rate),\n",
    "                  metrics=['accuracy'])\n",
    "    return model\n",
    "\n",
    "tests.test_embed_model(embed_model)\n",
    "\n",
    "# Reshaping the input to work with a basic RNN\n",
    "tmp_x = pad(preproc_english_sentences, max_french_sequence_length)\n",
    "\n",
    "# Train the neural network\n",
    "embed_rnn_model = embed_model(\n",
    "    tmp_x.shape,\n",
    "    max_french_sequence_length,\n",
    "    english_vocab_size,\n",
    "    french_vocab_size+1)\n",
    "embed_rnn_model.fit(tmp_x, preproc_french_sentences, batch_size=1024, epochs=10, validation_split=0.2)\n",
    "\n",
    "# Print prediction(s)\n",
    "print(logits_to_text(embed_rnn_model.predict(tmp_x[:1])[0], french_tokenizer))"
   ]
  },
  {
   "cell_type": "markdown",
   "metadata": {},
   "source": [
    "### Model 3: Bidirectional RNNs (IMPLEMENTATION)\n",
    "![RNN](images/bidirectional.png)\n",
    "One restriction of a RNN is that it can't see the future input, only the past.  This is where bidirectional recurrent neural networks come in.  They are able to see the future data."
   ]
  },
  {
   "cell_type": "code",
   "execution_count": 14,
   "metadata": {},
   "outputs": [
    {
     "name": "stdout",
     "output_type": "stream",
     "text": [
      "Train on 110288 samples, validate on 27573 samples\n",
      "Epoch 1/10\n",
      "110288/110288 [==============================] - 11s 104us/step - loss: 3.1890 - acc: 0.4749 - val_loss: 2.1795 - val_acc: 0.5241\n",
      "Epoch 2/10\n",
      "110288/110288 [==============================] - 11s 97us/step - loss: 1.9146 - acc: 0.5601 - val_loss: 1.7150 - val_acc: 0.5786\n",
      "Epoch 3/10\n",
      "110288/110288 [==============================] - 11s 97us/step - loss: 1.6105 - acc: 0.5938 - val_loss: 1.5282 - val_acc: 0.6062\n",
      "Epoch 4/10\n",
      "110288/110288 [==============================] - 11s 97us/step - loss: 1.4788 - acc: 0.6140 - val_loss: 1.4350 - val_acc: 0.6209\n",
      "Epoch 5/10\n",
      "110288/110288 [==============================] - 11s 98us/step - loss: 1.4031 - acc: 0.6239 - val_loss: 1.3723 - val_acc: 0.6293\n",
      "Epoch 6/10\n",
      "110288/110288 [==============================] - 11s 97us/step - loss: 1.3463 - acc: 0.6332 - val_loss: 1.3205 - val_acc: 0.6394\n",
      "Epoch 7/10\n",
      "110288/110288 [==============================] - 11s 97us/step - loss: 1.2969 - acc: 0.6417 - val_loss: 1.2739 - val_acc: 0.6457\n",
      "Epoch 8/10\n",
      "110288/110288 [==============================] - 11s 97us/step - loss: 1.2538 - acc: 0.6499 - val_loss: 1.2331 - val_acc: 0.6536\n",
      "Epoch 9/10\n",
      "110288/110288 [==============================] - 11s 96us/step - loss: 1.2158 - acc: 0.6565 - val_loss: 1.1978 - val_acc: 0.6603\n",
      "Epoch 10/10\n",
      "110288/110288 [==============================] - 11s 97us/step - loss: 1.1833 - acc: 0.6630 - val_loss: 1.1703 - val_acc: 0.6650\n",
      "new jersey est parfois chaud en l' et il est est en en <PAD> <PAD> <PAD> <PAD> <PAD> <PAD> <PAD> <PAD>\n"
     ]
    }
   ],
   "source": [
    "def bd_model(input_shape, output_sequence_length, english_vocab_size, french_vocab_size):\n",
    "    \"\"\"\n",
    "    Build and train a bidirectional RNN model on x and y\n",
    "    :param input_shape: Tuple of input shape\n",
    "    :param output_sequence_length: Length of output sequence\n",
    "    :param english_vocab_size: Number of unique English words in the dataset\n",
    "    :param french_vocab_size: Number of unique French words in the dataset\n",
    "    :return: Keras model built, but not trained\n",
    "    \"\"\"\n",
    "    # TODO: Implement\n",
    "    learning_rate = 1e-3\n",
    "\n",
    "    input_seq = Input(input_shape[1:])\n",
    "    rnn = Bidirectional(GRU(64, return_sequences=True), merge_mode='concat')(input_seq)\n",
    "    logits = TimeDistributed(Dense(french_vocab_size))(rnn)\n",
    "\n",
    "    model = Model(input_seq, Activation('softmax')(logits))\n",
    "    model.compile(loss=sparse_categorical_crossentropy,\n",
    "                  optimizer=Adam(learning_rate),\n",
    "                  metrics=['accuracy'])\n",
    "    return model\n",
    "\n",
    "tests.test_bd_model(bd_model)\n",
    "\n",
    "# Reshaping the input to work with a basic RNN\n",
    "tmp_x = pad(preproc_english_sentences, max_french_sequence_length)\n",
    "tmp_x = tmp_x.reshape((-1, preproc_french_sentences.shape[-2], 1))\n",
    "\n",
    "# Train the neural network\n",
    "bd_rnn_model = bd_model(\n",
    "    tmp_x.shape,\n",
    "    max_french_sequence_length,\n",
    "    english_vocab_size,\n",
    "    french_vocab_size+1)\n",
    "bd_rnn_model.fit(tmp_x, preproc_french_sentences, batch_size=1024, epochs=10, validation_split=0.2)\n",
    "\n",
    "# Print prediction(s)\n",
    "print(logits_to_text(bd_rnn_model.predict(tmp_x[:1])[0], french_tokenizer))"
   ]
  },
  {
   "cell_type": "markdown",
   "metadata": {},
   "source": [
    "### Model 4: Encoder-Decoder (OPTIONAL)\n",
    "Time to look at encoder-decoder models.  This model is made up of an encoder and decoder. The encoder creates a matrix representation of the sentence.  The decoder takes this matrix as input and predicts the translation as output.\n",
    "\n",
    "Create an encoder-decoder model in the cell below."
   ]
  },
  {
   "cell_type": "code",
   "execution_count": 17,
   "metadata": {},
   "outputs": [
    {
     "name": "stdout",
     "output_type": "stream",
     "text": [
      "Train on 110288 samples, validate on 27573 samples\n",
      "Epoch 1/10\n",
      "110288/110288 [==============================] - 8s 73us/step - loss: 3.5291 - acc: 0.4190 - val_loss: 2.5393 - val_acc: 0.4628\n",
      "Epoch 2/10\n",
      "110288/110288 [==============================] - 7s 66us/step - loss: 2.4160 - acc: 0.4725 - val_loss: 2.2896 - val_acc: 0.4931\n",
      "Epoch 3/10\n",
      "110288/110288 [==============================] - 7s 66us/step - loss: 2.1629 - acc: 0.5156 - val_loss: 2.0295 - val_acc: 0.5394\n",
      "Epoch 4/10\n",
      "110288/110288 [==============================] - 7s 66us/step - loss: 1.9173 - acc: 0.5618 - val_loss: 1.8165 - val_acc: 0.5749\n",
      "Epoch 5/10\n",
      "110288/110288 [==============================] - 7s 66us/step - loss: 1.7512 - acc: 0.5814 - val_loss: 1.6942 - val_acc: 0.5848\n",
      "Epoch 6/10\n",
      "110288/110288 [==============================] - 7s 66us/step - loss: 1.6529 - acc: 0.5896 - val_loss: 1.6154 - val_acc: 0.5979\n",
      "Epoch 7/10\n",
      "110288/110288 [==============================] - 7s 66us/step - loss: 1.5881 - acc: 0.5949 - val_loss: 1.5608 - val_acc: 0.5968\n",
      "Epoch 8/10\n",
      "110288/110288 [==============================] - 7s 66us/step - loss: 1.5381 - acc: 0.6022 - val_loss: 1.5143 - val_acc: 0.6051\n",
      "Epoch 9/10\n",
      "110288/110288 [==============================] - 7s 66us/step - loss: 1.4929 - acc: 0.6089 - val_loss: 1.4700 - val_acc: 0.6095\n",
      "Epoch 10/10\n",
      "110288/110288 [==============================] - 7s 66us/step - loss: 1.4489 - acc: 0.6138 - val_loss: 1.4276 - val_acc: 0.6168\n",
      "new jersey est parfois parfois en en mais il est est en en <PAD> <PAD> <PAD> <PAD> <PAD> <PAD> <PAD> <PAD>\n"
     ]
    }
   ],
   "source": [
    "from keras.layers.core import RepeatVector\n",
    "\n",
    "def encdec_model(input_shape, output_sequence_length, english_vocab_size, french_vocab_size):\n",
    "    \"\"\"\n",
    "    Build and train an encoder-decoder model on x and y\n",
    "    :param input_shape: Tuple of input shape\n",
    "    :param output_sequence_length: Length of output sequence\n",
    "    :param english_vocab_size: Number of unique English words in the dataset\n",
    "    :param french_vocab_size: Number of unique French words in the dataset\n",
    "    :return: Keras model built, but not trained\n",
    "    \"\"\"\n",
    "    # OPTIONAL: Implement\n",
    "    learning_rate = 1e-3\n",
    "\n",
    "    input_seq = Input(input_shape[1:])\n",
    "    enc_rnn = GRU(64, return_sequences=False)(input_seq)\n",
    "    context = RepeatVector(output_sequence_length)(enc_rnn)\n",
    "    dec_rnn = GRU(64, return_sequences=True)(context)\n",
    "    logits = TimeDistributed(Dense(french_vocab_size))(dec_rnn)\n",
    "\n",
    "    model = Model(input_seq, Activation('softmax')(logits))\n",
    "    model.compile(loss=sparse_categorical_crossentropy,\n",
    "                  optimizer=Adam(learning_rate),\n",
    "                  metrics=['accuracy'])\n",
    "    return model\n",
    "\n",
    "tests.test_encdec_model(encdec_model)\n",
    "\n",
    "# Reshaping the input to work with a basic RNN\n",
    "tmp_x = pad(preproc_english_sentences, max_french_sequence_length)\n",
    "tmp_x = tmp_x.reshape((-1, preproc_french_sentences.shape[-2], 1))\n",
    "\n",
    "# Train the neural network\n",
    "encdec_rnn_model = simple_model(\n",
    "    tmp_x.shape,\n",
    "    max_french_sequence_length,\n",
    "    english_vocab_size,\n",
    "    french_vocab_size+1)\n",
    "encdec_rnn_model.fit(tmp_x, preproc_french_sentences, batch_size=1024, epochs=10, validation_split=0.2)\n",
    "\n",
    "# Print prediction(s)\n",
    "print(logits_to_text(encdec_rnn_model.predict(tmp_x[:1])[0], french_tokenizer))"
   ]
  },
  {
   "cell_type": "markdown",
   "metadata": {},
   "source": [
    "### Model 5: Custom (IMPLEMENTATION)\n",
    "Use everything you learned from the previous models to create a model that incorporates embedding and a bidirectional rnn into one model."
   ]
  },
  {
   "cell_type": "code",
   "execution_count": 37,
   "metadata": {
    "scrolled": false
   },
   "outputs": [
    {
     "name": "stdout",
     "output_type": "stream",
     "text": [
      "Final Model Loaded\n",
      "Train on 110288 samples, validate on 27573 samples\n",
      "Epoch 1/64\n",
      "110288/110288 [==============================] - 75s 684us/step - loss: 3.1719 - acc: 0.4301 - val_loss: 2.5273 - val_acc: 0.4684\n",
      "Epoch 2/64\n",
      "110288/110288 [==============================] - 72s 649us/step - loss: 2.3485 - acc: 0.4928 - val_loss: 2.2204 - val_acc: 0.5243\n",
      "Epoch 3/64\n",
      "110288/110288 [==============================] - 72s 651us/step - loss: 2.1175 - acc: 0.5354 - val_loss: 2.0213 - val_acc: 0.5501\n",
      "Epoch 4/64\n",
      "110288/110288 [==============================] - 72s 649us/step - loss: 1.8605 - acc: 0.5603 - val_loss: 1.7390 - val_acc: 0.5623\n",
      "Epoch 5/64\n",
      "110288/110288 [==============================] - 72s 649us/step - loss: 1.6442 - acc: 0.5759 - val_loss: 1.5731 - val_acc: 0.5866\n",
      "Epoch 6/64\n",
      "110288/110288 [==============================] - 72s 649us/step - loss: 1.5353 - acc: 0.5881 - val_loss: 1.4748 - val_acc: 0.6011\n",
      "Epoch 7/64\n",
      "110288/110288 [==============================] - 72s 651us/step - loss: 1.4383 - acc: 0.6097 - val_loss: 1.3874 - val_acc: 0.6218\n",
      "Epoch 8/64\n",
      "110288/110288 [==============================] - 71s 648us/step - loss: 1.3530 - acc: 0.6283 - val_loss: 1.3060 - val_acc: 0.6372\n",
      "Epoch 9/64\n",
      "110288/110288 [==============================] - 72s 649us/step - loss: 1.2730 - acc: 0.6432 - val_loss: 1.2451 - val_acc: 0.6512\n",
      "Epoch 10/64\n",
      "110288/110288 [==============================] - 72s 648us/step - loss: 1.2047 - acc: 0.6594 - val_loss: 1.1701 - val_acc: 0.6690\n",
      "Epoch 11/64\n",
      "110288/110288 [==============================] - 71s 646us/step - loss: 1.1512 - acc: 0.6711 - val_loss: 1.1164 - val_acc: 0.6818\n",
      "Epoch 12/64\n",
      "110288/110288 [==============================] - 71s 647us/step - loss: 1.0915 - acc: 0.6869 - val_loss: 1.0652 - val_acc: 0.6923\n",
      "Epoch 13/64\n",
      "110288/110288 [==============================] - 72s 651us/step - loss: 1.0467 - acc: 0.6965 - val_loss: 1.0253 - val_acc: 0.7034\n",
      "Epoch 14/64\n",
      "110288/110288 [==============================] - 72s 649us/step - loss: 1.0033 - acc: 0.7079 - val_loss: 0.9854 - val_acc: 0.7148\n",
      "Epoch 15/64\n",
      "110288/110288 [==============================] - 72s 649us/step - loss: 0.9628 - acc: 0.7186 - val_loss: 0.9326 - val_acc: 0.7267\n",
      "Epoch 16/64\n",
      "110288/110288 [==============================] - 71s 648us/step - loss: 0.9204 - acc: 0.7287 - val_loss: 0.9231 - val_acc: 0.7269\n",
      "Epoch 17/64\n",
      "110288/110288 [==============================] - 72s 649us/step - loss: 0.8802 - acc: 0.7397 - val_loss: 0.8647 - val_acc: 0.7449\n",
      "Epoch 18/64\n",
      "110288/110288 [==============================] - 72s 649us/step - loss: 0.8463 - acc: 0.7488 - val_loss: 0.8289 - val_acc: 0.7543\n",
      "Epoch 19/64\n",
      "110288/110288 [==============================] - 71s 641us/step - loss: 0.8178 - acc: 0.7571 - val_loss: 0.8122 - val_acc: 0.7581\n",
      "Epoch 20/64\n",
      "110288/110288 [==============================] - 71s 644us/step - loss: 0.7932 - acc: 0.7635 - val_loss: 0.7813 - val_acc: 0.7675\n",
      "Epoch 21/64\n",
      "110288/110288 [==============================] - 72s 650us/step - loss: 0.7691 - acc: 0.7691 - val_loss: 0.7538 - val_acc: 0.7740\n",
      "Epoch 22/64\n",
      "110288/110288 [==============================] - 72s 651us/step - loss: 0.7425 - acc: 0.7758 - val_loss: 0.7399 - val_acc: 0.7774\n",
      "Epoch 23/64\n",
      "110288/110288 [==============================] - 72s 649us/step - loss: 0.7250 - acc: 0.7796 - val_loss: 0.7303 - val_acc: 0.7786\n",
      "Epoch 24/64\n",
      "110288/110288 [==============================] - 71s 648us/step - loss: 0.7028 - acc: 0.7853 - val_loss: 0.7030 - val_acc: 0.7851\n",
      "Epoch 25/64\n",
      "110288/110288 [==============================] - 71s 641us/step - loss: 0.6825 - acc: 0.7908 - val_loss: 0.6805 - val_acc: 0.7915\n",
      "Epoch 26/64\n",
      "110288/110288 [==============================] - 71s 645us/step - loss: 0.6682 - acc: 0.7946 - val_loss: 0.6680 - val_acc: 0.7939\n",
      "Epoch 27/64\n",
      "110288/110288 [==============================] - 70s 637us/step - loss: 0.6499 - acc: 0.7994 - val_loss: 0.6449 - val_acc: 0.8015\n",
      "Epoch 28/64\n",
      "110288/110288 [==============================] - 71s 641us/step - loss: 0.6395 - acc: 0.8023 - val_loss: 0.6316 - val_acc: 0.8058\n",
      "Epoch 29/64\n",
      "110288/110288 [==============================] - 70s 638us/step - loss: 0.6148 - acc: 0.8095 - val_loss: 0.6074 - val_acc: 0.8119\n",
      "Epoch 30/64\n",
      "110288/110288 [==============================] - 71s 644us/step - loss: 0.5925 - acc: 0.8163 - val_loss: 0.5893 - val_acc: 0.8188\n",
      "Epoch 31/64\n",
      "110288/110288 [==============================] - 72s 653us/step - loss: 0.5724 - acc: 0.8225 - val_loss: 0.5675 - val_acc: 0.8243\n",
      "Epoch 32/64\n",
      "110288/110288 [==============================] - 72s 650us/step - loss: 0.5502 - acc: 0.8289 - val_loss: 0.5484 - val_acc: 0.8299\n",
      "Epoch 33/64\n",
      "110288/110288 [==============================] - 72s 653us/step - loss: 0.5265 - acc: 0.8362 - val_loss: 0.5334 - val_acc: 0.8344\n",
      "Epoch 34/64\n",
      "110288/110288 [==============================] - 72s 649us/step - loss: 0.5140 - acc: 0.8403 - val_loss: 0.4996 - val_acc: 0.8452\n",
      "Epoch 35/64\n",
      "110288/110288 [==============================] - 72s 649us/step - loss: 0.4851 - acc: 0.8491 - val_loss: 0.4847 - val_acc: 0.8497\n",
      "Epoch 36/64\n",
      "110288/110288 [==============================] - 72s 651us/step - loss: 0.4630 - acc: 0.8560 - val_loss: 0.4724 - val_acc: 0.8553\n",
      "Epoch 37/64\n",
      "110288/110288 [==============================] - 72s 651us/step - loss: 0.4512 - acc: 0.8601 - val_loss: 0.4538 - val_acc: 0.8600\n",
      "Epoch 38/64\n",
      "110288/110288 [==============================] - 72s 652us/step - loss: 0.4279 - acc: 0.8677 - val_loss: 0.4313 - val_acc: 0.8683\n",
      "Epoch 39/64\n",
      "110288/110288 [==============================] - 72s 652us/step - loss: 0.4112 - acc: 0.8733 - val_loss: 0.4154 - val_acc: 0.8729\n",
      "Epoch 40/64\n",
      "110288/110288 [==============================] - 71s 648us/step - loss: 0.3971 - acc: 0.8783 - val_loss: 0.4002 - val_acc: 0.8787\n",
      "Epoch 41/64\n",
      "110288/110288 [==============================] - 72s 651us/step - loss: 0.3770 - acc: 0.8851 - val_loss: 0.3806 - val_acc: 0.8846\n",
      "Epoch 42/64\n",
      "110288/110288 [==============================] - 72s 654us/step - loss: 0.3598 - acc: 0.8912 - val_loss: 0.3713 - val_acc: 0.8884\n",
      "Epoch 43/64\n",
      "110288/110288 [==============================] - 72s 649us/step - loss: 0.3465 - acc: 0.8956 - val_loss: 0.3563 - val_acc: 0.8948\n",
      "Epoch 44/64\n",
      "110288/110288 [==============================] - 71s 647us/step - loss: 0.3270 - acc: 0.9026 - val_loss: 0.3331 - val_acc: 0.9019\n",
      "Epoch 45/64\n",
      "110288/110288 [==============================] - 71s 641us/step - loss: 0.3145 - acc: 0.9076 - val_loss: 0.3242 - val_acc: 0.9061\n",
      "Epoch 46/64\n",
      "110288/110288 [==============================] - 72s 649us/step - loss: 0.3007 - acc: 0.9131 - val_loss: 0.3066 - val_acc: 0.9117\n",
      "Epoch 47/64\n",
      "110288/110288 [==============================] - 71s 641us/step - loss: 0.2776 - acc: 0.9216 - val_loss: 0.2881 - val_acc: 0.9197\n",
      "Epoch 48/64\n",
      "110288/110288 [==============================] - 71s 646us/step - loss: 0.2638 - acc: 0.9266 - val_loss: 0.2853 - val_acc: 0.9210\n",
      "Epoch 49/64\n",
      "110288/110288 [==============================] - 72s 651us/step - loss: 0.2547 - acc: 0.9295 - val_loss: 0.2641 - val_acc: 0.9273\n",
      "Epoch 50/64\n",
      "110288/110288 [==============================] - 72s 649us/step - loss: 0.2331 - acc: 0.9372 - val_loss: 0.2474 - val_acc: 0.9338\n",
      "Epoch 51/64\n",
      "110288/110288 [==============================] - 72s 649us/step - loss: 0.2298 - acc: 0.9380 - val_loss: 0.2377 - val_acc: 0.9367\n",
      "Epoch 52/64\n",
      "110288/110288 [==============================] - 71s 647us/step - loss: 0.2063 - acc: 0.9461 - val_loss: 0.2276 - val_acc: 0.9404\n",
      "Epoch 53/64\n",
      "110288/110288 [==============================] - 71s 646us/step - loss: 0.1960 - acc: 0.9494 - val_loss: 0.2019 - val_acc: 0.9499\n",
      "Epoch 54/64\n",
      "110288/110288 [==============================] - 71s 640us/step - loss: 0.1779 - acc: 0.9555 - val_loss: 0.1985 - val_acc: 0.9495\n",
      "Epoch 55/64\n",
      "110288/110288 [==============================] - 71s 644us/step - loss: 0.1736 - acc: 0.9569 - val_loss: 0.1866 - val_acc: 0.9544\n",
      "Epoch 56/64\n",
      "110288/110288 [==============================] - 71s 646us/step - loss: 0.2296 - acc: 0.9398 - val_loss: 0.2716 - val_acc: 0.9246\n",
      "Epoch 57/64\n",
      "110288/110288 [==============================] - 72s 649us/step - loss: 0.1707 - acc: 0.9574 - val_loss: 0.1863 - val_acc: 0.9539\n",
      "Epoch 58/64\n",
      "110288/110288 [==============================] - 72s 653us/step - loss: 0.1414 - acc: 0.9669 - val_loss: 0.1644 - val_acc: 0.9603\n",
      "Epoch 59/64\n",
      "110288/110288 [==============================] - 72s 649us/step - loss: 0.1323 - acc: 0.9691 - val_loss: 0.1557 - val_acc: 0.9634\n",
      "Epoch 60/64\n",
      "110288/110288 [==============================] - 72s 650us/step - loss: 0.1249 - acc: 0.9710 - val_loss: 0.1475 - val_acc: 0.9654\n",
      "Epoch 61/64\n",
      "110288/110288 [==============================] - 71s 645us/step - loss: 0.1229 - acc: 0.9711 - val_loss: 0.1553 - val_acc: 0.9622\n",
      "Epoch 62/64\n",
      "110288/110288 [==============================] - 72s 651us/step - loss: 0.1183 - acc: 0.9719 - val_loss: 0.1559 - val_acc: 0.9613\n",
      "Epoch 63/64\n",
      "110288/110288 [==============================] - 71s 648us/step - loss: 0.1143 - acc: 0.9724 - val_loss: 0.1539 - val_acc: 0.9618\n",
      "Epoch 64/64\n",
      "110288/110288 [==============================] - 71s 648us/step - loss: 0.1078 - acc: 0.9742 - val_loss: 0.1334 - val_acc: 0.9674\n",
      "new jersey est parfois calme pendant l' automne et il est neigeux en avril <PAD> <PAD> <PAD> <PAD> <PAD> <PAD> <PAD>\n"
     ]
    }
   ],
   "source": [
    "from keras.layers.recurrent import LSTM\n",
    "\n",
    "def model_final(input_shape, output_sequence_length, english_vocab_size, french_vocab_size):\n",
    "    \"\"\"\n",
    "    Build and train a model that incorporates embedding, encoder-decoder, and bidirectional RNN on x and y\n",
    "    :param input_shape: Tuple of input shape\n",
    "    :param output_sequence_length: Length of output sequence\n",
    "    :param english_vocab_size: Number of unique English words in the dataset\n",
    "    :param french_vocab_size: Number of unique French words in the dataset\n",
    "    :return: Keras model built, but not trained\n",
    "    \"\"\"\n",
    "    # TODO: Implement\n",
    "    learning_rate = 1e-3\n",
    "\n",
    "    input_seq = Input(shape=(input_shape[-1],))\n",
    "    embed_seq = Embedding(english_vocab_size+1, 50, mask_zero=True)(input_seq)\n",
    "    enc_rnn_1 = Bidirectional(LSTM(128, return_sequences=True), merge_mode='concat')(embed_seq)\n",
    "    enc_rnn_2 = Bidirectional(LSTM(128, return_sequences=False), merge_mode='concat')(enc_rnn_1)\n",
    "    context = RepeatVector(output_sequence_length)(enc_rnn_2)\n",
    "    dec_rnn_1 = LSTM(128, return_sequences=True)(context)\n",
    "    dec_rnn_2 = LSTM(128, return_sequences=True)(dec_rnn_1)\n",
    "    logits = TimeDistributed(Dense(french_vocab_size))(dec_rnn_2)\n",
    "\n",
    "    model = Model(input_seq, Activation('softmax')(logits))\n",
    "    model.compile(loss=sparse_categorical_crossentropy,\n",
    "                  optimizer=Adam(learning_rate),\n",
    "                  metrics=['accuracy'])\n",
    "    return model\n",
    "\n",
    "tests.test_model_final(model_final)\n",
    "\n",
    "# Reshaping the input to work with a basic RNN\n",
    "tmp_x = pad(preproc_english_sentences, max_english_sequence_length)\n",
    "\n",
    "print('Final Model Loaded')\n",
    "# Train the neural network\n",
    "final_rnn_model = model_final(\n",
    "    tmp_x.shape,\n",
    "    max_french_sequence_length,\n",
    "    english_vocab_size,\n",
    "    french_vocab_size+1)\n",
    "final_rnn_model.fit(tmp_x, preproc_french_sentences, batch_size=1024, epochs=64, validation_split=0.2)\n",
    "\n",
    "# Print prediction(s)\n",
    "print(logits_to_text(final_rnn_model.predict(tmp_x[:1])[0], french_tokenizer))"
   ]
  },
  {
   "cell_type": "markdown",
   "metadata": {},
   "source": [
    "## Prediction (IMPLEMENTATION)"
   ]
  },
  {
   "cell_type": "code",
   "execution_count": 38,
   "metadata": {},
   "outputs": [
    {
     "name": "stdout",
     "output_type": "stream",
     "text": [
      "Sample 1:\n",
      "il a vu un vieux camion jaune <PAD> <PAD> <PAD> <PAD> <PAD> <PAD> <PAD> <PAD> <PAD> <PAD> <PAD> <PAD> <PAD> <PAD>\n",
      "Il a vu un vieux camion jaune\n",
      "Sample 2:\n",
      "new jersey est parfois calme pendant l' automne et il est neigeux en avril <PAD> <PAD> <PAD> <PAD> <PAD> <PAD> <PAD>\n",
      "new jersey est parfois calme pendant l' automne et il est neigeux en avril <PAD> <PAD> <PAD> <PAD> <PAD> <PAD> <PAD>\n"
     ]
    }
   ],
   "source": [
    "def final_predictions(x, y, x_tk, y_tk):\n",
    "    \"\"\"\n",
    "    Gets predictions using the final model\n",
    "    :param x: Preprocessed English data\n",
    "    :param y: Preprocessed French data\n",
    "    :param x_tk: English tokenizer\n",
    "    :param y_tk: French tokenizer\n",
    "    \"\"\"\n",
    "    # TODO: Train neural network using model_final\n",
    "    model = final_rnn_model\n",
    "\n",
    "    \n",
    "    ## DON'T EDIT ANYTHING BELOW THIS LINE\n",
    "    y_id_to_word = {value: key for key, value in y_tk.word_index.items()}\n",
    "    y_id_to_word[0] = '<PAD>'\n",
    "\n",
    "    sentence = 'he saw a old yellow truck'\n",
    "    sentence = [x_tk.word_index[word] for word in sentence.split()]\n",
    "    sentence = pad_sequences([sentence], maxlen=x.shape[-1], padding='post')\n",
    "    sentences = np.array([sentence[0], x[0]])\n",
    "    predictions = model.predict(sentences, len(sentences))\n",
    "\n",
    "    print('Sample 1:')\n",
    "    print(' '.join([y_id_to_word[np.argmax(x)] for x in predictions[0]]))\n",
    "    print('Il a vu un vieux camion jaune')\n",
    "    print('Sample 2:')\n",
    "    print(' '.join([y_id_to_word[np.argmax(x)] for x in predictions[1]]))\n",
    "    print(' '.join([y_id_to_word[np.max(x)] for x in y[0]]))\n",
    "\n",
    "\n",
    "final_predictions(preproc_english_sentences, preproc_french_sentences, english_tokenizer, french_tokenizer)"
   ]
  },
  {
   "cell_type": "markdown",
   "metadata": {},
   "source": [
    "## Submission\n",
    "When you're ready to submit, complete the following steps:\n",
    "1. Review the [rubric](https://review.udacity.com/#!/rubrics/1004/view) to ensure your submission meets all requirements to pass\n",
    "2. Generate an HTML version of this notebook\n",
    "\n",
    "  - Run the next cell to attempt automatic generation (this is the recommended method in Workspaces)\n",
    "  - Navigate to **FILE -> Download as -> HTML (.html)**\n",
    "  - Manually generate a copy using `nbconvert` from your shell terminal\n",
    "```\n",
    "$ pip install nbconvert\n",
    "$ python -m nbconvert machine_translation.ipynb\n",
    "```\n",
    "  \n",
    "3. Submit the project\n",
    "\n",
    "  - If you are in a Workspace, simply click the \"Submit Project\" button (bottom towards the right)\n",
    "  \n",
    "  - Otherwise, add the following files into a zip archive and submit them \n",
    "  - `helper.py`\n",
    "  - `machine_translation.ipynb`\n",
    "  - `machine_translation.html`\n",
    "    - You can export the notebook by navigating to **File -> Download as -> HTML (.html)**."
   ]
  },
  {
   "cell_type": "markdown",
   "metadata": {},
   "source": [
    "### Generate the html\n",
    "\n",
    "**Save your notebook before running the next cell to generate the HTML output.** Then submit your project."
   ]
  },
  {
   "cell_type": "code",
   "execution_count": 39,
   "metadata": {},
   "outputs": [
    {
     "data": {
      "text/plain": [
       "['[NbConvertApp] Converting notebook machine_translation.ipynb to html',\n",
       " '[NbConvertApp] Writing 351547 bytes to machine_translation.html']"
      ]
     },
     "execution_count": 39,
     "metadata": {},
     "output_type": "execute_result"
    }
   ],
   "source": [
    "# Save before you run this cell!\n",
    "!!jupyter nbconvert *.ipynb"
   ]
  },
  {
   "cell_type": "markdown",
   "metadata": {},
   "source": [
    "## Optional Enhancements\n",
    "\n",
    "This project focuses on learning various network architectures for machine translation, but we don't evaluate the models according to best practices by splitting the data into separate test & training sets -- so the model accuracy is overstated. Use the [`sklearn.model_selection.train_test_split()`](http://scikit-learn.org/stable/modules/generated/sklearn.model_selection.train_test_split.html) function to create separate training & test datasets, then retrain each of the models using only the training set and evaluate the prediction accuracy using the hold out test set. Does the \"best\" model change?"
   ]
  }
 ],
 "metadata": {
  "hide_input": false,
  "kernelspec": {
   "display_name": "Python 3",
   "language": "python",
   "name": "python3"
  },
  "language_info": {
   "codemirror_mode": {
    "name": "ipython",
    "version": 3
   },
   "file_extension": ".py",
   "mimetype": "text/x-python",
   "name": "python",
   "nbconvert_exporter": "python",
   "pygments_lexer": "ipython3",
   "version": "3.5.2"
  },
  "toc": {
   "base_numbering": 1,
   "nav_menu": {},
   "number_sections": true,
   "sideBar": true,
   "skip_h1_title": false,
   "title_cell": "Table of Contents",
   "title_sidebar": "Contents",
   "toc_cell": true,
   "toc_position": {},
   "toc_section_display": true,
   "toc_window_display": true
  },
  "varInspector": {
   "cols": {
    "lenName": 16,
    "lenType": 16,
    "lenVar": 40
   },
   "kernels_config": {
    "python": {
     "delete_cmd_postfix": "",
     "delete_cmd_prefix": "del ",
     "library": "var_list.py",
     "varRefreshCmd": "print(var_dic_list())"
    },
    "r": {
     "delete_cmd_postfix": ") ",
     "delete_cmd_prefix": "rm(",
     "library": "var_list.r",
     "varRefreshCmd": "cat(var_dic_list()) "
    }
   },
   "types_to_exclude": [
    "module",
    "function",
    "builtin_function_or_method",
    "instance",
    "_Feature"
   ],
   "window_display": false
  }
 },
 "nbformat": 4,
 "nbformat_minor": 1
}
